{
  "cells": [
    {
      "cell_type": "code",
      "execution_count": 1,
      "metadata": {
        "colab": {
          "base_uri": "https://localhost:8080/",
          "height": 74
        },
        "colab_type": "code",
        "id": "VdNgPyvDWEUS",
        "outputId": "32524036-570e-4299-a379-9fbc9594e524"
      },
      "outputs": [
        {
          "name": "stderr",
          "output_type": "stream",
          "text": [
            "Using TensorFlow backend.\n"
          ]
        }
      ],
      "source": [
        "import keras\n",
        "import numpy as np\n",
        "import pandas as pd\n",
        "import cv2\n",
        "from matplotlib import pyplot as plt\n",
        "from keras.models import Sequential \n",
        "from keras.layers import Conv2D,MaxPooling2D, Dense,Flatten, Dropout\n",
        "from keras.datasets import mnist \n",
        "import matplotlib.pyplot as plt\n",
        "from keras.utils import np_utils\n",
        "from keras.optimizers import SGD"
      ]
    },
    {
      "cell_type": "code",
      "execution_count": 2,
      "metadata": {
        "colab": {
          "base_uri": "https://localhost:8080/",
          "height": 413
        },
        "colab_type": "code",
        "id": "GlR1JOKvWHsH",
        "outputId": "d5fc426a-68f5-4e75-cadc-e355268e7214"
      },
      "outputs": [
        {
          "name": "stdout",
          "output_type": "stream",
          "text": [
            "Collecting PyDrive\n",
            "\u001b[?25l  Downloading https://files.pythonhosted.org/packages/52/e0/0e64788e5dd58ce2d6934549676243dc69d982f198524be9b99e9c2a4fd5/PyDrive-1.3.1.tar.gz (987kB)\n",
            "\u001b[K    100% |████████████████████████████████| 993kB 21.4MB/s \n",
            "\u001b[?25hRequirement already satisfied: google-api-python-client>=1.2 in /usr/local/lib/python3.6/dist-packages (from PyDrive) (1.6.7)\n",
            "Requirement already satisfied: oauth2client>=4.0.0 in /usr/local/lib/python3.6/dist-packages (from PyDrive) (4.1.3)\n",
            "Requirement already satisfied: PyYAML>=3.0 in /usr/local/lib/python3.6/dist-packages (from PyDrive) (3.13)\n",
            "Requirement already satisfied: six<2dev,>=1.6.1 in /usr/local/lib/python3.6/dist-packages (from google-api-python-client>=1.2->PyDrive) (1.11.0)\n",
            "Requirement already satisfied: httplib2<1dev,>=0.9.2 in /usr/local/lib/python3.6/dist-packages (from google-api-python-client>=1.2->PyDrive) (0.11.3)\n",
            "Requirement already satisfied: uritemplate<4dev,>=3.0.0 in /usr/local/lib/python3.6/dist-packages (from google-api-python-client>=1.2->PyDrive) (3.0.0)\n",
            "Requirement already satisfied: pyasn1-modules>=0.0.5 in /usr/local/lib/python3.6/dist-packages (from oauth2client>=4.0.0->PyDrive) (0.2.4)\n",
            "Requirement already satisfied: rsa>=3.1.4 in /usr/local/lib/python3.6/dist-packages (from oauth2client>=4.0.0->PyDrive) (4.0)\n",
            "Requirement already satisfied: pyasn1>=0.1.7 in /usr/local/lib/python3.6/dist-packages (from oauth2client>=4.0.0->PyDrive) (0.4.5)\n",
            "Building wheels for collected packages: PyDrive\n",
            "  Building wheel for PyDrive (setup.py) ... \u001b[?25ldone\n",
            "\u001b[?25h  Stored in directory: /root/.cache/pip/wheels/fa/d2/9a/d3b6b506c2da98289e5d417215ce34b696db856643bad779f4\n",
            "Successfully built PyDrive\n",
            "Installing collected packages: PyDrive\n",
            "Successfully installed PyDrive-1.3.1\n"
          ]
        }
      ],
      "source": [
        "!pip install PyDrive"
      ]
    },
    {
      "cell_type": "code",
      "execution_count": null,
      "metadata": {
        "colab": {},
        "colab_type": "code",
        "id": "HNnnwPjXWRuf"
      },
      "outputs": [],
      "source": [
        "import os\n",
        "from pydrive.auth import GoogleAuth\n",
        "from pydrive.drive import GoogleDrive\n",
        "from google.colab import auth\n",
        "from oauth2client.client import GoogleCredentials"
      ]
    },
    {
      "cell_type": "code",
      "execution_count": null,
      "metadata": {
        "colab": {},
        "colab_type": "code",
        "id": "9LqcRmtLWbtW"
      },
      "outputs": [],
      "source": [
        "auth.authenticate_user()\n",
        "gauth = GoogleAuth()\n",
        "gauth.credentials = GoogleCredentials.get_application_default()\n",
        "drive = GoogleDrive(gauth)"
      ]
    },
    {
      "cell_type": "code",
      "execution_count": null,
      "metadata": {
        "colab": {},
        "colab_type": "code",
        "id": "cbSWnRL-Weng"
      },
      "outputs": [],
      "source": [
        "download = drive.CreateFile({'id': '1wG0gS-bqjV6yz1YveuxkvHT5_2DOuT05'})\n",
        "download.GetContentFile('train.csv')\n",
        "train = pd.read_csv('train.csv')"
      ]
    },
    {
      "cell_type": "code",
      "execution_count": null,
      "metadata": {
        "colab": {},
        "colab_type": "code",
        "id": "xLgX8B76Wpz4"
      },
      "outputs": [],
      "source": [
        "download = drive.CreateFile({'id': '1q_Zwlu3RncjKq1YpiVtkiMPxIIueGRYB'})\n",
        "download.GetContentFile('test.csv')\n",
        "test = pd.read_csv('test.csv')"
      ]
    },
    {
      "cell_type": "code",
      "execution_count": null,
      "metadata": {
        "colab": {},
        "colab_type": "code",
        "id": "APs14-zkaRwl"
      },
      "outputs": [],
      "source": [
        "y_train = train['label'].values\n",
        "y_test = test['label'].values\n",
        "\n",
        "X_train = train.drop(['label'],axis=1)\n",
        "X_test = test.drop(['label'], axis=1)\n",
        "\n",
        "X_train = np.array(X_train.iloc[:,:])\n",
        "X_train = np.array([np.reshape(i, (28,28)) for i in X_train])\n",
        "\n",
        "X_test = np.array(X_test.iloc[:,:])\n",
        "X_test = np.array([np.reshape(i, (28,28)) for i in X_test])\n",
        "\n",
        "num_classes = 26\n",
        "y_train = np.array(y_train).reshape(-1)\n",
        "y_test = np.array(y_test).reshape(-1)\n",
        "\n",
        "y_train = np.eye(num_classes)[y_train]\n",
        "y_test = np.eye(num_classes)[y_test]"
      ]
    },
    {
      "cell_type": "code",
      "execution_count": null,
      "metadata": {
        "colab": {},
        "colab_type": "code",
        "id": "VG7bDv9xkS1h"
      },
      "outputs": [],
      "source": [
        "X_train = X_train.reshape((27455, 28, 28, 1))\n",
        "X_test = X_test.reshape((7172, 28, 28, 1))"
      ]
    },
    {
      "cell_type": "code",
      "execution_count": 9,
      "metadata": {
        "colab": {
          "base_uri": "https://localhost:8080/",
          "height": 179
        },
        "colab_type": "code",
        "id": "pX7X-hS9W1PB",
        "outputId": "94dc0a57-37ee-4cb2-8985-0150678d09f1"
      },
      "outputs": [
        {
          "name": "stdout",
          "output_type": "stream",
          "text": [
            "WARNING:tensorflow:From /usr/local/lib/python3.6/dist-packages/tensorflow/python/framework/op_def_library.py:263: colocate_with (from tensorflow.python.framework.ops) is deprecated and will be removed in a future version.\n",
            "Instructions for updating:\n",
            "Colocations handled automatically by placer.\n",
            "WARNING:tensorflow:From /usr/local/lib/python3.6/dist-packages/keras/backend/tensorflow_backend.py:3445: calling dropout (from tensorflow.python.ops.nn_ops) with keep_prob is deprecated and will be removed in a future version.\n",
            "Instructions for updating:\n",
            "Please use `rate` instead of `keep_prob`. Rate should be set to `rate = 1 - keep_prob`.\n"
          ]
        }
      ],
      "source": [
        "\n",
        "classifier = Sequential()\n",
        "classifier.add(Conv2D(filters=8, kernel_size=(3,3),strides=(1,1),padding='same',input_shape=(28,28,1),activation='relu', data_format='channels_last'))\n",
        "classifier.add(MaxPooling2D(pool_size=(2,2)))\n",
        "classifier.add(Conv2D(filters=16, kernel_size=(3,3),strides=(1,1),padding='same',activation='relu'))\n",
        "classifier.add(Dropout(0.5))\n",
        "classifier.add(MaxPooling2D(pool_size=(4,4)))\n",
        "classifier.add(Dense(128, activation='relu'))\n",
        "classifier.add(Flatten())\n",
        "classifier.add(Dense(26, activation='softmax'))\n",
        "classifier.compile(optimizer='SGD', loss='categorical_crossentropy', metrics=['accuracy'])"
      ]
    },
    {
      "cell_type": "code",
      "execution_count": 10,
      "metadata": {
        "colab": {
          "base_uri": "https://localhost:8080/",
          "height": 1756
        },
        "colab_type": "code",
        "id": "Y20PZzLxW-eO",
        "outputId": "2062a984-4ec7-4a8f-acc8-344ff47d98c1"
      },
      "outputs": [
        {
          "name": "stdout",
          "output_type": "stream",
          "text": [
            "WARNING:tensorflow:From /usr/local/lib/python3.6/dist-packages/tensorflow/python/ops/math_ops.py:3066: to_int32 (from tensorflow.python.ops.math_ops) is deprecated and will be removed in a future version.\n",
            "Instructions for updating:\n",
            "Use tf.cast instead.\n",
            "Epoch 1/50\n",
            "27455/27455 [==============================] - 7s 242us/step - loss: 7.6854 - acc: 0.2546\n",
            "Epoch 2/50\n",
            "27455/27455 [==============================] - 2s 87us/step - loss: 0.6890 - acc: 0.7661\n",
            "Epoch 3/50\n",
            "27455/27455 [==============================] - 2s 87us/step - loss: 0.3952 - acc: 0.8629\n",
            "Epoch 4/50\n",
            "27455/27455 [==============================] - 2s 87us/step - loss: 0.2676 - acc: 0.9060\n",
            "Epoch 5/50\n",
            "27455/27455 [==============================] - 2s 88us/step - loss: 0.2072 - acc: 0.9270\n",
            "Epoch 6/50\n",
            "27455/27455 [==============================] - 2s 88us/step - loss: 0.1647 - acc: 0.9430\n",
            "Epoch 7/50\n",
            "27455/27455 [==============================] - 2s 88us/step - loss: 0.1333 - acc: 0.9542\n",
            "Epoch 8/50\n",
            "27455/27455 [==============================] - 2s 89us/step - loss: 0.1289 - acc: 0.9549\n",
            "Epoch 9/50\n",
            "27455/27455 [==============================] - 2s 87us/step - loss: 0.1016 - acc: 0.9652\n",
            "Epoch 10/50\n",
            "27455/27455 [==============================] - 2s 87us/step - loss: 0.0914 - acc: 0.9681\n",
            "Epoch 11/50\n",
            "27455/27455 [==============================] - 2s 87us/step - loss: 0.0865 - acc: 0.9696\n",
            "Epoch 12/50\n",
            "27455/27455 [==============================] - 2s 87us/step - loss: 0.0849 - acc: 0.9708\n",
            "Epoch 13/50\n",
            "27455/27455 [==============================] - 2s 87us/step - loss: 0.0761 - acc: 0.9746\n",
            "Epoch 14/50\n",
            "27455/27455 [==============================] - 2s 87us/step - loss: 0.0677 - acc: 0.9773\n",
            "Epoch 15/50\n",
            "27455/27455 [==============================] - 2s 87us/step - loss: 0.0706 - acc: 0.9755\n",
            "Epoch 16/50\n",
            "27455/27455 [==============================] - 2s 88us/step - loss: 0.0586 - acc: 0.9803\n",
            "Epoch 17/50\n",
            "27455/27455 [==============================] - 2s 87us/step - loss: 0.0664 - acc: 0.9775\n",
            "Epoch 18/50\n",
            "27455/27455 [==============================] - 2s 87us/step - loss: 0.0519 - acc: 0.9826\n",
            "Epoch 19/50\n",
            "27455/27455 [==============================] - 2s 87us/step - loss: 0.0560 - acc: 0.9811\n",
            "Epoch 20/50\n",
            "27455/27455 [==============================] - 2s 87us/step - loss: 0.0501 - acc: 0.9830\n",
            "Epoch 21/50\n",
            "27455/27455 [==============================] - 2s 87us/step - loss: 0.0476 - acc: 0.9836\n",
            "Epoch 22/50\n",
            "27455/27455 [==============================] - 2s 87us/step - loss: 0.0502 - acc: 0.9828\n",
            "Epoch 23/50\n",
            "27455/27455 [==============================] - 2s 87us/step - loss: 0.0475 - acc: 0.9844\n",
            "Epoch 24/50\n",
            "27455/27455 [==============================] - 2s 88us/step - loss: 0.0453 - acc: 0.9843\n",
            "Epoch 25/50\n",
            "27455/27455 [==============================] - 2s 87us/step - loss: 0.0397 - acc: 0.9870\n",
            "Epoch 26/50\n",
            "27455/27455 [==============================] - 2s 87us/step - loss: 0.0526 - acc: 0.9828\n",
            "Epoch 27/50\n",
            "27455/27455 [==============================] - 2s 87us/step - loss: 0.0405 - acc: 0.9866\n",
            "Epoch 28/50\n",
            "27455/27455 [==============================] - 2s 87us/step - loss: 0.0427 - acc: 0.9855\n",
            "Epoch 29/50\n",
            "27455/27455 [==============================] - 2s 87us/step - loss: 0.0404 - acc: 0.9867\n",
            "Epoch 30/50\n",
            "27455/27455 [==============================] - 2s 87us/step - loss: 0.0445 - acc: 0.9846\n",
            "Epoch 31/50\n",
            "27455/27455 [==============================] - 2s 87us/step - loss: 0.0339 - acc: 0.9891\n",
            "Epoch 32/50\n",
            "27455/27455 [==============================] - 2s 87us/step - loss: 0.0478 - acc: 0.9848\n",
            "Epoch 33/50\n",
            "27455/27455 [==============================] - 2s 87us/step - loss: 0.0309 - acc: 0.9901\n",
            "Epoch 34/50\n",
            "27455/27455 [==============================] - 2s 87us/step - loss: 0.0389 - acc: 0.9877\n",
            "Epoch 35/50\n",
            "27455/27455 [==============================] - 2s 87us/step - loss: 0.0325 - acc: 0.9894\n",
            "Epoch 36/50\n",
            "27455/27455 [==============================] - 2s 88us/step - loss: 0.0367 - acc: 0.9881\n",
            "Epoch 37/50\n",
            "27455/27455 [==============================] - 2s 87us/step - loss: 0.0405 - acc: 0.9879\n",
            "Epoch 38/50\n",
            "27455/27455 [==============================] - 2s 87us/step - loss: 0.0359 - acc: 0.9887\n",
            "Epoch 39/50\n",
            "27455/27455 [==============================] - 2s 87us/step - loss: 0.0333 - acc: 0.9898\n",
            "Epoch 40/50\n",
            "27455/27455 [==============================] - 2s 88us/step - loss: 0.0311 - acc: 0.9901\n",
            "Epoch 41/50\n",
            "27455/27455 [==============================] - 2s 87us/step - loss: 0.0342 - acc: 0.9895\n",
            "Epoch 42/50\n",
            "27455/27455 [==============================] - 2s 87us/step - loss: 0.0258 - acc: 0.9913\n",
            "Epoch 43/50\n",
            "27455/27455 [==============================] - 2s 86us/step - loss: 0.0319 - acc: 0.9886\n",
            "Epoch 44/50\n",
            "27455/27455 [==============================] - 2s 87us/step - loss: 0.0296 - acc: 0.9906\n",
            "Epoch 45/50\n",
            "27455/27455 [==============================] - 2s 88us/step - loss: 0.0294 - acc: 0.9908\n",
            "Epoch 46/50\n",
            "27455/27455 [==============================] - 2s 87us/step - loss: 0.0345 - acc: 0.9895\n",
            "Epoch 47/50\n",
            "27455/27455 [==============================] - 2s 87us/step - loss: 0.0431 - acc: 0.9857\n",
            "Epoch 48/50\n",
            "27455/27455 [==============================] - 2s 87us/step - loss: 0.0326 - acc: 0.9902\n",
            "Epoch 49/50\n",
            "27455/27455 [==============================] - 2s 87us/step - loss: 0.0343 - acc: 0.9890\n",
            "Epoch 50/50\n",
            "27455/27455 [==============================] - 2s 87us/step - loss: 0.0300 - acc: 0.9903\n"
          ]
        },
        {
          "data": {
            "text/plain": [
              "<keras.callbacks.History at 0x7feba3527f28>"
            ]
          },
          "execution_count": 10,
          "metadata": {
            "tags": []
          },
          "output_type": "execute_result"
        }
      ],
      "source": [
        "classifier.compile(loss='categorical_crossentropy', optimizer='adam', metrics=['accuracy'])\n",
        "classifier.fit(X_train, y_train, epochs=50, batch_size=100)\n"
      ]
    },
    {
      "cell_type": "code",
      "execution_count": 18,
      "metadata": {
        "colab": {
          "base_uri": "https://localhost:8080/",
          "height": 92
        },
        "colab_type": "code",
        "id": "Q9dEumbZckZ1",
        "outputId": "24bd96d4-2b0d-4a35-e5ab-32f445811512"
      },
      "outputs": [
        {
          "name": "stdout",
          "output_type": "stream",
          "text": [
            "7172/7172 [==============================] - 0s 68us/step\n",
            "Accuracy:  0.9408812046848857\n"
          ]
        }
      ],
      "source": [
        "accuracy = classifier.evaluate(x=X_test,y=y_test,batch_size=32)\n",
        "print(\"Accuracy: \",accuracy[1])"
      ]
    },
    {
      "cell_type": "code",
      "execution_count": 12,
      "metadata": {
        "colab": {
          "base_uri": "https://localhost:8080/",
          "height": 439
        },
        "colab_type": "code",
        "id": "Y3ugo3XtmKoZ",
        "outputId": "cc60e2c4-8a49-440e-ee02-ddea623bd740"
      },
      "outputs": [
        {
          "name": "stdout",
          "output_type": "stream",
          "text": [
            "_________________________________________________________________\n",
            "Layer (type)                 Output Shape              Param #   \n",
            "=================================================================\n",
            "conv2d_1 (Conv2D)            (None, 28, 28, 8)         80        \n",
            "_________________________________________________________________\n",
            "max_pooling2d_1 (MaxPooling2 (None, 14, 14, 8)         0         \n",
            "_________________________________________________________________\n",
            "conv2d_2 (Conv2D)            (None, 14, 14, 16)        1168      \n",
            "_________________________________________________________________\n",
            "dropout_1 (Dropout)          (None, 14, 14, 16)        0         \n",
            "_________________________________________________________________\n",
            "max_pooling2d_2 (MaxPooling2 (None, 3, 3, 16)          0         \n",
            "_________________________________________________________________\n",
            "dense_1 (Dense)              (None, 3, 3, 128)         2176      \n",
            "_________________________________________________________________\n",
            "flatten_1 (Flatten)          (None, 1152)              0         \n",
            "_________________________________________________________________\n",
            "dense_2 (Dense)              (None, 26)                29978     \n",
            "=================================================================\n",
            "Total params: 33,402\n",
            "Trainable params: 33,402\n",
            "Non-trainable params: 0\n",
            "_________________________________________________________________\n"
          ]
        }
      ],
      "source": [
        "classifier.summary()"
      ]
    },
    {
      "cell_type": "code",
      "execution_count": null,
      "metadata": {
        "colab": {},
        "colab_type": "code",
        "id": "-r9GxkiFRyl7"
      },
      "outputs": [],
      "source": [
        "from keras.utils.vis_utils import plot_model"
      ]
    },
    {
      "cell_type": "code",
      "execution_count": null,
      "metadata": {
        "colab": {},
        "colab_type": "code",
        "id": "8UGALrzbR4i2"
      },
      "outputs": [],
      "source": [
        "plot_model(classifier, to_file='model_plot.png', show_shapes=True, show_layer_names=True)"
      ]
    },
    {
      "cell_type": "code",
      "execution_count": 15,
      "metadata": {
        "colab": {
          "base_uri": "https://localhost:8080/",
          "height": 387
        },
        "colab_type": "code",
        "id": "JTikifp6R9h9",
        "outputId": "ac42259d-7b04-47ea-c65e-cea5c32dc888"
      },
      "outputs": [
        {
          "name": "stdout",
          "output_type": "stream",
          "text": [
            "Reading package lists... Done\n",
            "Building dependency tree       \n",
            "Reading state information... Done\n",
            "graphviz is already the newest version (2.40.1-2).\n",
            "The following package was automatically installed and is no longer required:\n",
            "  libnvidia-common-410\n",
            "Use 'apt autoremove' to remove it.\n",
            "0 upgraded, 0 newly installed, 0 to remove and 10 not upgraded.\n",
            "Requirement already satisfied: pydot in /usr/local/lib/python3.6/dist-packages (1.3.0)\n",
            "Requirement already satisfied: pydot-ng in /usr/local/lib/python3.6/dist-packages (2.0.0)\n",
            "Requirement already satisfied: pyparsing>=2.1.4 in /usr/local/lib/python3.6/dist-packages (from pydot) (2.3.1)\n",
            "Double check with Python 3\n"
          ]
        }
      ],
      "source": [
        "!apt install graphviz\n",
        "!pip install pydot pydot-ng\n",
        "!echo \"Double check with Python 3\"\n",
        "!python -c \"import pydot\""
      ]
    },
    {
      "cell_type": "code",
      "execution_count": 16,
      "metadata": {
        "colab": {
          "base_uri": "https://localhost:8080/",
          "height": 529
        },
        "colab_type": "code",
        "id": "T1b-rpZ0SH61",
        "outputId": "20a3ea54-c6ab-4d44-c415-29345642b01c"
      },
      "outputs": [
        {
          "data": {
            "image/png": "[encoded data removed]",
            "text/plain": [
              "<IPython.core.display.Image object>"
            ]
          },
          "execution_count": 16,
          "metadata": {
            "image/png": {
              "height": 472,
              "width": 274
            },
            "tags": []
          },
          "output_type": "execute_result"
        }
      ],
      "source": [
        "plot_model(classifier, show_shapes=True, show_layer_names=True, to_file='model.png')\n",
        "from IPython.display import Image\n",
        "Image(retina=True, filename='model.png')"
      ]
    },
    {
      "cell_type": "code",
      "execution_count": 17,
      "metadata": {
        "colab": {
          "base_uri": "https://localhost:8080/",
          "height": 74
        },
        "colab_type": "code",
        "id": "yRpbDys4TH5U",
        "outputId": "1bdc91e3-b643-45d3-b554-66f1feea7bd3"
      },
      "outputs": [
        {
          "data": {
            "text/plain": [
              "GoogleDriveFile({'id': '1cCWUVBKuM069e8UGzh2y95aPIOguAVee'})"
            ]
          },
          "execution_count": 17,
          "metadata": {
            "tags": []
          },
          "output_type": "execute_result"
        }
      ],
      "source": [
        "classifier.save('CNNmodel.h5')\n",
        "weights_file = drive.CreateFile({'title' : 'CNNmodel.h5'})\n",
        "weights_file.SetContentFile('CNNmodel.h5')\n",
        "weights_file.Upload()\n",
        "drive.CreateFile({'id': weights_file.get('id')})"
      ]
    },
    {
      "cell_type": "code",
      "execution_count": null,
      "metadata": {
        "colab": {},
        "colab_type": "code",
        "id": "XeEDOSACyGLG"
      },
      "outputs": [],
      "source": []
    }
  ],
  "metadata": {
    "accelerator": "GPU",
    "colab": {
      "include_colab_link": true,
      "name": "ASLwithCNN.ipynb",
      "provenance": [],
      "version": "0.3.2"
    },
    "kernelspec": {
      "display_name": "Python 3",
      "name": "python3"
    }
  },
  "nbformat": 4,
  "nbformat_minor": 0
}
