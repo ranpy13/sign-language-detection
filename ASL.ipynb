{
  "cells": [
    {
      "cell_type": "code",
      "execution_count": 1,
      "metadata": {
        "colab": {
          "base_uri": "https://localhost:8080/",
          "height": 94
        },
        "colab_type": "code",
        "id": "imJ4pdxMFuob",
        "outputId": "22a5dc33-01d4-46e8-ccce-3cc120edd9b3"
      },
      "outputs": [
        {
          "name": "stderr",
          "output_type": "stream",
          "text": [
            "Using TensorFlow backend.\n"
          ]
        }
      ],
      "source": [
        "import keras\n",
        "import numpy as np\n",
        "import pandas as pd\n",
        "import cv2 \n",
        "from keras.models import Sequential \n",
        "from keras.layers import Conv2D,MaxPooling2D, Dense,Flatten\n",
        "from keras.datasets import mnist \n",
        "import matplotlib.pyplot as plt\n",
        "from keras.utils import np_utils\n",
        "from keras.optimizers import SGD"
      ]
    },
    {
      "cell_type": "code",
      "execution_count": 2,
      "metadata": {
        "colab": {
          "base_uri": "https://localhost:8080/",
          "height": 403
        },
        "colab_type": "code",
        "id": "qIP4zEpGGYl1",
        "outputId": "d987dcc6-a95d-4cca-afcb-817de00e0874"
      },
      "outputs": [
        {
          "name": "stdout",
          "output_type": "stream",
          "text": [
            "Collecting PyDrive\n",
            "\u001b[?25l  Downloading https://files.pythonhosted.org/packages/52/e0/0e64788e5dd58ce2d6934549676243dc69d982f198524be9b99e9c2a4fd5/PyDrive-1.3.1.tar.gz (987kB)\n",
            "\u001b[K    100% |████████████████████████████████| 993kB 22.1MB/s \n",
            "\u001b[?25hRequirement already satisfied: google-api-python-client>=1.2 in /usr/local/lib/python3.6/dist-packages (from PyDrive) (1.6.7)\n",
            "Requirement already satisfied: oauth2client>=4.0.0 in /usr/local/lib/python3.6/dist-packages (from PyDrive) (4.1.3)\n",
            "Requirement already satisfied: PyYAML>=3.0 in /usr/local/lib/python3.6/dist-packages (from PyDrive) (3.13)\n",
            "Requirement already satisfied: httplib2<1dev,>=0.9.2 in /usr/local/lib/python3.6/dist-packages (from google-api-python-client>=1.2->PyDrive) (0.11.3)\n",
            "Requirement already satisfied: uritemplate<4dev,>=3.0.0 in /usr/local/lib/python3.6/dist-packages (from google-api-python-client>=1.2->PyDrive) (3.0.0)\n",
            "Requirement already satisfied: six<2dev,>=1.6.1 in /usr/local/lib/python3.6/dist-packages (from google-api-python-client>=1.2->PyDrive) (1.11.0)\n",
            "Requirement already satisfied: pyasn1>=0.1.7 in /usr/local/lib/python3.6/dist-packages (from oauth2client>=4.0.0->PyDrive) (0.4.5)\n",
            "Requirement already satisfied: rsa>=3.1.4 in /usr/local/lib/python3.6/dist-packages (from oauth2client>=4.0.0->PyDrive) (4.0)\n",
            "Requirement already satisfied: pyasn1-modules>=0.0.5 in /usr/local/lib/python3.6/dist-packages (from oauth2client>=4.0.0->PyDrive) (0.2.4)\n",
            "Building wheels for collected packages: PyDrive\n",
            "  Building wheel for PyDrive (setup.py) ... \u001b[?25ldone\n",
            "\u001b[?25h  Stored in directory: /root/.cache/pip/wheels/fa/d2/9a/d3b6b506c2da98289e5d417215ce34b696db856643bad779f4\n",
            "Successfully built PyDrive\n",
            "Installing collected packages: PyDrive\n",
            "Successfully installed PyDrive-1.3.1\n"
          ]
        }
      ],
      "source": [
        "!pip install PyDrive"
      ]
    },
    {
      "cell_type": "code",
      "execution_count": null,
      "metadata": {
        "colab": {},
        "colab_type": "code",
        "id": "ijUASkTROl6D"
      },
      "outputs": [],
      "source": [
        "import os\n",
        "from pydrive.auth import GoogleAuth\n",
        "from pydrive.drive import GoogleDrive\n",
        "from google.colab import auth\n",
        "from oauth2client.client import GoogleCredentials"
      ]
    },
    {
      "cell_type": "code",
      "execution_count": null,
      "metadata": {
        "colab": {},
        "colab_type": "code",
        "id": "2yEzz9S4RdR9"
      },
      "outputs": [],
      "source": [
        "auth.authenticate_user()\n",
        "gauth = GoogleAuth()\n",
        "gauth.credentials = GoogleCredentials.get_application_default()\n",
        "drive = GoogleDrive(gauth)"
      ]
    },
    {
      "cell_type": "code",
      "execution_count": null,
      "metadata": {
        "colab": {},
        "colab_type": "code",
        "id": "Z6DDOrSbRqA3"
      },
      "outputs": [],
      "source": [
        "download = drive.CreateFile({'id': '1wG0gS-bqjV6yz1YveuxkvHT5_2DOuT05'})\n",
        "download.GetContentFile('train.csv')\n",
        "train = pd.read_csv('train.csv')"
      ]
    },
    {
      "cell_type": "code",
      "execution_count": null,
      "metadata": {
        "colab": {},
        "colab_type": "code",
        "id": "2Rc5CNhVRs4b"
      },
      "outputs": [],
      "source": [
        "download = drive.CreateFile({'id': '1q_Zwlu3RncjKq1YpiVtkiMPxIIueGRYB'})\n",
        "download.GetContentFile('test.csv')\n",
        "test = pd.read_csv('test.csv')"
      ]
    },
    {
      "cell_type": "code",
      "execution_count": 7,
      "metadata": {
        "colab": {
          "base_uri": "https://localhost:8080/",
          "height": 499
        },
        "colab_type": "code",
        "id": "Bzui153jR012",
        "outputId": "ad034b18-6bd7-4d3f-83d5-50d241b19fac"
      },
      "outputs": [
        {
          "name": "stdout",
          "output_type": "stream",
          "text": [
            "<class 'pandas.core.frame.DataFrame'>\n",
            "RangeIndex: 27455 entries, 0 to 27454\n",
            "Columns: 785 entries, label to pixel784\n",
            "dtypes: int64(785)\n",
            "memory usage: 164.4 MB\n"
          ]
        },
        {
          "data": {
            "text/plain": [
              "None"
            ]
          },
          "metadata": {
            "tags": []
          },
          "output_type": "display_data"
        },
        {
          "name": "stdout",
          "output_type": "stream",
          "text": [
            "<class 'pandas.core.frame.DataFrame'>\n",
            "RangeIndex: 7172 entries, 0 to 7171\n",
            "Columns: 785 entries, label to pixel784\n",
            "dtypes: int64(785)\n",
            "memory usage: 43.0 MB\n"
          ]
        },
        {
          "data": {
            "text/plain": [
              "None"
            ]
          },
          "metadata": {
            "tags": []
          },
          "output_type": "display_data"
        },
        {
          "data": {
            "text/html": [
              "<div>\n",
              "<style scoped>\n",
              "    .dataframe tbody tr th:only-of-type {\n",
              "        vertical-align: middle;\n",
              "    }\n",
              "\n",
              "    .dataframe tbody tr th {\n",
              "        vertical-align: top;\n",
              "    }\n",
              "\n",
              "    .dataframe thead th {\n",
              "        text-align: right;\n",
              "    }\n",
              "</style>\n",
              "<table border=\"1\" class=\"dataframe\">\n",
              "  <thead>\n",
              "    <tr style=\"text-align: right;\">\n",
              "      <th></th>\n",
              "      <th>label</th>\n",
              "      <th>pixel1</th>\n",
              "      <th>pixel2</th>\n",
              "      <th>pixel3</th>\n",
              "      <th>pixel4</th>\n",
              "      <th>pixel5</th>\n",
              "      <th>pixel6</th>\n",
              "      <th>pixel7</th>\n",
              "      <th>pixel8</th>\n",
              "      <th>pixel9</th>\n",
              "      <th>...</th>\n",
              "      <th>pixel775</th>\n",
              "      <th>pixel776</th>\n",
              "      <th>pixel777</th>\n",
              "      <th>pixel778</th>\n",
              "      <th>pixel779</th>\n",
              "      <th>pixel780</th>\n",
              "      <th>pixel781</th>\n",
              "      <th>pixel782</th>\n",
              "      <th>pixel783</th>\n",
              "      <th>pixel784</th>\n",
              "    </tr>\n",
              "  </thead>\n",
              "  <tbody>\n",
              "    <tr>\n",
              "      <th>0</th>\n",
              "      <td>3</td>\n",
              "      <td>107</td>\n",
              "      <td>118</td>\n",
              "      <td>127</td>\n",
              "      <td>134</td>\n",
              "      <td>139</td>\n",
              "      <td>143</td>\n",
              "      <td>146</td>\n",
              "      <td>150</td>\n",
              "      <td>153</td>\n",
              "      <td>...</td>\n",
              "      <td>207</td>\n",
              "      <td>207</td>\n",
              "      <td>207</td>\n",
              "      <td>207</td>\n",
              "      <td>206</td>\n",
              "      <td>206</td>\n",
              "      <td>206</td>\n",
              "      <td>204</td>\n",
              "      <td>203</td>\n",
              "      <td>202</td>\n",
              "    </tr>\n",
              "    <tr>\n",
              "      <th>1</th>\n",
              "      <td>6</td>\n",
              "      <td>155</td>\n",
              "      <td>157</td>\n",
              "      <td>156</td>\n",
              "      <td>156</td>\n",
              "      <td>156</td>\n",
              "      <td>157</td>\n",
              "      <td>156</td>\n",
              "      <td>158</td>\n",
              "      <td>158</td>\n",
              "      <td>...</td>\n",
              "      <td>69</td>\n",
              "      <td>149</td>\n",
              "      <td>128</td>\n",
              "      <td>87</td>\n",
              "      <td>94</td>\n",
              "      <td>163</td>\n",
              "      <td>175</td>\n",
              "      <td>103</td>\n",
              "      <td>135</td>\n",
              "      <td>149</td>\n",
              "    </tr>\n",
              "  </tbody>\n",
              "</table>\n",
              "<p>2 rows × 785 columns</p>\n",
              "</div>"
            ],
            "text/plain": [
              "   label  pixel1  pixel2  pixel3  pixel4  pixel5  pixel6  pixel7  pixel8  \\\n",
              "0      3     107     118     127     134     139     143     146     150   \n",
              "1      6     155     157     156     156     156     157     156     158   \n",
              "\n",
              "   pixel9    ...     pixel775  pixel776  pixel777  pixel778  pixel779  \\\n",
              "0     153    ...          207       207       207       207       206   \n",
              "1     158    ...           69       149       128        87        94   \n",
              "\n",
              "   pixel780  pixel781  pixel782  pixel783  pixel784  \n",
              "0       206       206       204       203       202  \n",
              "1       163       175       103       135       149  \n",
              "\n",
              "[2 rows x 785 columns]"
            ]
          },
          "metadata": {
            "tags": []
          },
          "output_type": "display_data"
        },
        {
          "data": {
            "text/html": [
              "<div>\n",
              "<style scoped>\n",
              "    .dataframe tbody tr th:only-of-type {\n",
              "        vertical-align: middle;\n",
              "    }\n",
              "\n",
              "    .dataframe tbody tr th {\n",
              "        vertical-align: top;\n",
              "    }\n",
              "\n",
              "    .dataframe thead th {\n",
              "        text-align: right;\n",
              "    }\n",
              "</style>\n",
              "<table border=\"1\" class=\"dataframe\">\n",
              "  <thead>\n",
              "    <tr style=\"text-align: right;\">\n",
              "      <th></th>\n",
              "      <th>label</th>\n",
              "      <th>pixel1</th>\n",
              "      <th>pixel2</th>\n",
              "      <th>pixel3</th>\n",
              "      <th>pixel4</th>\n",
              "      <th>pixel5</th>\n",
              "      <th>pixel6</th>\n",
              "      <th>pixel7</th>\n",
              "      <th>pixel8</th>\n",
              "      <th>pixel9</th>\n",
              "      <th>...</th>\n",
              "      <th>pixel775</th>\n",
              "      <th>pixel776</th>\n",
              "      <th>pixel777</th>\n",
              "      <th>pixel778</th>\n",
              "      <th>pixel779</th>\n",
              "      <th>pixel780</th>\n",
              "      <th>pixel781</th>\n",
              "      <th>pixel782</th>\n",
              "      <th>pixel783</th>\n",
              "      <th>pixel784</th>\n",
              "    </tr>\n",
              "  </thead>\n",
              "  <tbody>\n",
              "    <tr>\n",
              "      <th>0</th>\n",
              "      <td>6</td>\n",
              "      <td>149</td>\n",
              "      <td>149</td>\n",
              "      <td>150</td>\n",
              "      <td>150</td>\n",
              "      <td>150</td>\n",
              "      <td>151</td>\n",
              "      <td>151</td>\n",
              "      <td>150</td>\n",
              "      <td>151</td>\n",
              "      <td>...</td>\n",
              "      <td>138</td>\n",
              "      <td>148</td>\n",
              "      <td>127</td>\n",
              "      <td>89</td>\n",
              "      <td>82</td>\n",
              "      <td>96</td>\n",
              "      <td>106</td>\n",
              "      <td>112</td>\n",
              "      <td>120</td>\n",
              "      <td>107</td>\n",
              "    </tr>\n",
              "    <tr>\n",
              "      <th>1</th>\n",
              "      <td>5</td>\n",
              "      <td>126</td>\n",
              "      <td>128</td>\n",
              "      <td>131</td>\n",
              "      <td>132</td>\n",
              "      <td>133</td>\n",
              "      <td>134</td>\n",
              "      <td>135</td>\n",
              "      <td>135</td>\n",
              "      <td>136</td>\n",
              "      <td>...</td>\n",
              "      <td>47</td>\n",
              "      <td>104</td>\n",
              "      <td>194</td>\n",
              "      <td>183</td>\n",
              "      <td>186</td>\n",
              "      <td>184</td>\n",
              "      <td>184</td>\n",
              "      <td>184</td>\n",
              "      <td>182</td>\n",
              "      <td>180</td>\n",
              "    </tr>\n",
              "  </tbody>\n",
              "</table>\n",
              "<p>2 rows × 785 columns</p>\n",
              "</div>"
            ],
            "text/plain": [
              "   label  pixel1  pixel2  pixel3  pixel4  pixel5  pixel6  pixel7  pixel8  \\\n",
              "0      6     149     149     150     150     150     151     151     150   \n",
              "1      5     126     128     131     132     133     134     135     135   \n",
              "\n",
              "   pixel9    ...     pixel775  pixel776  pixel777  pixel778  pixel779  \\\n",
              "0     151    ...          138       148       127        89        82   \n",
              "1     136    ...           47       104       194       183       186   \n",
              "\n",
              "   pixel780  pixel781  pixel782  pixel783  pixel784  \n",
              "0        96       106       112       120       107  \n",
              "1       184       184       184       182       180  \n",
              "\n",
              "[2 rows x 785 columns]"
            ]
          },
          "metadata": {
            "tags": []
          },
          "output_type": "display_data"
        }
      ],
      "source": [
        "display(train.info())\n",
        "\n",
        "display(test.info())\n",
        "\n",
        "display(train.head(n = 2))\n",
        "display(test.head(n = 2))"
      ]
    },
    {
      "cell_type": "code",
      "execution_count": null,
      "metadata": {
        "colab": {},
        "colab_type": "code",
        "id": "Yim557wpbSf_"
      },
      "outputs": [],
      "source": [
        "train_Y = train['label']\n",
        "test_Y = test['label']\n",
        "train_X = train.drop(['label'],axis = 1)\n",
        "test_X = test.drop(['label'],axis = 1)"
      ]
    },
    {
      "cell_type": "code",
      "execution_count": null,
      "metadata": {
        "colab": {},
        "colab_type": "code",
        "id": "PyiXHi2DkT4r"
      },
      "outputs": [],
      "source": [
        "train_X = train_X.astype('float32') / 255\n",
        "test_X = test_X.astype('float32')/255"
      ]
    },
    {
      "cell_type": "code",
      "execution_count": 10,
      "metadata": {
        "colab": {
          "base_uri": "https://localhost:8080/",
          "height": 1062
        },
        "colab_type": "code",
        "id": "RpKOAcYvi-wS",
        "outputId": "b521c982-91ac-4db7-d5fb-efacc3448a06"
      },
      "outputs": [
        {
          "data": {
            "text/plain": [
              "0         3\n",
              "1         6\n",
              "2         2\n",
              "3         2\n",
              "4        13\n",
              "5        16\n",
              "6         8\n",
              "7        22\n",
              "8         3\n",
              "9         3\n",
              "10       18\n",
              "11       10\n",
              "12       16\n",
              "13       22\n",
              "14       20\n",
              "15       16\n",
              "16       17\n",
              "17       13\n",
              "18       13\n",
              "19       19\n",
              "20       18\n",
              "21       21\n",
              "22       16\n",
              "23       23\n",
              "24        3\n",
              "25       23\n",
              "26       24\n",
              "27       18\n",
              "28       22\n",
              "29        1\n",
              "         ..\n",
              "27425    21\n",
              "27426    21\n",
              "27427     4\n",
              "27428    17\n",
              "27429     5\n",
              "27430    12\n",
              "27431    19\n",
              "27432     2\n",
              "27433    22\n",
              "27434    12\n",
              "27435     1\n",
              "27436    19\n",
              "27437    16\n",
              "27438    21\n",
              "27439    11\n",
              "27440     5\n",
              "27441    18\n",
              "27442     0\n",
              "27443    21\n",
              "27444    18\n",
              "27445    14\n",
              "27446    19\n",
              "27447    11\n",
              "27448    12\n",
              "27449    20\n",
              "27450    13\n",
              "27451    23\n",
              "27452    18\n",
              "27453    17\n",
              "27454    23\n",
              "Name: label, Length: 27455, dtype: int64"
            ]
          },
          "metadata": {
            "tags": []
          },
          "output_type": "display_data"
        }
      ],
      "source": [
        "display(train_Y)\n"
      ]
    },
    {
      "cell_type": "code",
      "execution_count": null,
      "metadata": {
        "colab": {},
        "colab_type": "code",
        "id": "zRdBQOJ0bVvF"
      },
      "outputs": [],
      "source": [
        "\n",
        "train_X = train_X.values.reshape(27455,784)\n",
        "test_X = test_X.values.reshape(7172,784)\n",
        "train_Y = keras.utils.to_categorical(train_Y,26)\n",
        "test_Y = keras.utils.to_categorical(test_Y,26)"
      ]
    },
    {
      "cell_type": "code",
      "execution_count": null,
      "metadata": {
        "colab": {},
        "colab_type": "code",
        "id": "00fdB0Yvl1d8"
      },
      "outputs": [],
      "source": [
        "model = Sequential()\n",
        "model.add(Dense(units=128,activation=\"relu\",input_shape=(784,)))\n",
        "model.add(Dense(units=128,activation=\"relu\"))\n",
        "model.add(Dense(units=128,activation=\"relu\"))\n",
        "model.add(Dense(units=26,activation=\"softmax\"))"
      ]
    },
    {
      "cell_type": "code",
      "execution_count": 18,
      "metadata": {
        "colab": {
          "base_uri": "https://localhost:8080/",
          "height": 3359
        },
        "colab_type": "code",
        "id": "QIfU7or-fcAM",
        "outputId": "eea79b18-d95f-4067-94ed-a8988aae85e8"
      },
      "outputs": [
        {
          "name": "stdout",
          "output_type": "stream",
          "text": [
            "Epoch 1/100\n",
            "27455/27455 [==============================] - 4s 144us/step - loss: 1.9388 - acc: 0.4308\n",
            "Epoch 2/100\n",
            "27455/27455 [==============================] - 4s 138us/step - loss: 1.8460 - acc: 0.4592\n",
            "Epoch 3/100\n",
            "27455/27455 [==============================] - 4s 139us/step - loss: 1.7602 - acc: 0.4863\n",
            "Epoch 4/100\n",
            "27455/27455 [==============================] - 4s 138us/step - loss: 1.6834 - acc: 0.5116\n",
            "Epoch 5/100\n",
            "27455/27455 [==============================] - 4s 138us/step - loss: 1.6118 - acc: 0.5333\n",
            "Epoch 6/100\n",
            "27455/27455 [==============================] - 4s 138us/step - loss: 1.5447 - acc: 0.5548\n",
            "Epoch 7/100\n",
            "27455/27455 [==============================] - 4s 136us/step - loss: 1.4838 - acc: 0.5697\n",
            "Epoch 8/100\n",
            "27455/27455 [==============================] - 4s 137us/step - loss: 1.4232 - acc: 0.5893\n",
            "Epoch 9/100\n",
            "27455/27455 [==============================] - 4s 138us/step - loss: 1.3696 - acc: 0.6010\n",
            "Epoch 10/100\n",
            "27455/27455 [==============================] - 4s 137us/step - loss: 1.3198 - acc: 0.6141\n",
            "Epoch 11/100\n",
            "27455/27455 [==============================] - 4s 137us/step - loss: 1.2719 - acc: 0.6249\n",
            "Epoch 12/100\n",
            "27455/27455 [==============================] - 4s 138us/step - loss: 1.2269 - acc: 0.6385\n",
            "Epoch 13/100\n",
            "27455/27455 [==============================] - 4s 138us/step - loss: 1.1834 - acc: 0.6499\n",
            "Epoch 14/100\n",
            "27455/27455 [==============================] - 4s 137us/step - loss: 1.1428 - acc: 0.6602\n",
            "Epoch 15/100\n",
            "27455/27455 [==============================] - 4s 136us/step - loss: 1.1046 - acc: 0.6723\n",
            "Epoch 16/100\n",
            "27455/27455 [==============================] - 4s 136us/step - loss: 1.0684 - acc: 0.6833\n",
            "Epoch 17/100\n",
            "27455/27455 [==============================] - 4s 137us/step - loss: 1.0329 - acc: 0.6924\n",
            "Epoch 18/100\n",
            "27455/27455 [==============================] - 4s 138us/step - loss: 1.0001 - acc: 0.7014\n",
            "Epoch 19/100\n",
            "27455/27455 [==============================] - 4s 142us/step - loss: 0.9689 - acc: 0.7132\n",
            "Epoch 20/100\n",
            "27455/27455 [==============================] - 4s 142us/step - loss: 0.9397 - acc: 0.7216\n",
            "Epoch 21/100\n",
            "27455/27455 [==============================] - 4s 141us/step - loss: 0.9109 - acc: 0.7304\n",
            "Epoch 22/100\n",
            "27455/27455 [==============================] - 4s 137us/step - loss: 0.8852 - acc: 0.7361\n",
            "Epoch 23/100\n",
            "27455/27455 [==============================] - 4s 137us/step - loss: 0.8575 - acc: 0.7467\n",
            "Epoch 24/100\n",
            "27455/27455 [==============================] - 4s 142us/step - loss: 0.8323 - acc: 0.7568\n",
            "Epoch 25/100\n",
            "27455/27455 [==============================] - 4s 137us/step - loss: 0.8072 - acc: 0.7638\n",
            "Epoch 26/100\n",
            "27455/27455 [==============================] - 4s 138us/step - loss: 0.7842 - acc: 0.7709\n",
            "Epoch 27/100\n",
            "27455/27455 [==============================] - 4s 137us/step - loss: 0.7607 - acc: 0.7799\n",
            "Epoch 28/100\n",
            "27455/27455 [==============================] - 4s 137us/step - loss: 0.7383 - acc: 0.7876\n",
            "Epoch 29/100\n",
            "27455/27455 [==============================] - 4s 138us/step - loss: 0.7166 - acc: 0.7931\n",
            "Epoch 30/100\n",
            "27455/27455 [==============================] - 4s 137us/step - loss: 0.6958 - acc: 0.8005\n",
            "Epoch 31/100\n",
            "27455/27455 [==============================] - 4s 137us/step - loss: 0.6739 - acc: 0.8055\n",
            "Epoch 32/100\n",
            "27455/27455 [==============================] - 4s 140us/step - loss: 0.6548 - acc: 0.8157\n",
            "Epoch 33/100\n",
            "27455/27455 [==============================] - 4s 140us/step - loss: 0.6348 - acc: 0.8216\n",
            "Epoch 34/100\n",
            "27455/27455 [==============================] - 4s 136us/step - loss: 0.6150 - acc: 0.8295\n",
            "Epoch 35/100\n",
            "27455/27455 [==============================] - 4s 142us/step - loss: 0.5970 - acc: 0.8370\n",
            "Epoch 36/100\n",
            "27455/27455 [==============================] - 4s 151us/step - loss: 0.5779 - acc: 0.8431\n",
            "Epoch 37/100\n",
            "27455/27455 [==============================] - 4s 146us/step - loss: 0.5603 - acc: 0.8480\n",
            "Epoch 38/100\n",
            "27455/27455 [==============================] - 4s 145us/step - loss: 0.5417 - acc: 0.8522\n",
            "Epoch 39/100\n",
            "27455/27455 [==============================] - 4s 147us/step - loss: 0.5241 - acc: 0.8602\n",
            "Epoch 40/100\n",
            "27455/27455 [==============================] - 4s 150us/step - loss: 0.5086 - acc: 0.8652\n",
            "Epoch 41/100\n",
            "27455/27455 [==============================] - 4s 148us/step - loss: 0.4916 - acc: 0.8706\n",
            "Epoch 42/100\n",
            "27455/27455 [==============================] - 4s 146us/step - loss: 0.4779 - acc: 0.8749\n",
            "Epoch 43/100\n",
            "27455/27455 [==============================] - 4s 147us/step - loss: 0.4608 - acc: 0.8809\n",
            "Epoch 44/100\n",
            "27455/27455 [==============================] - 4s 140us/step - loss: 0.4465 - acc: 0.8856\n",
            "Epoch 45/100\n",
            "27455/27455 [==============================] - 4s 140us/step - loss: 0.4318 - acc: 0.8900\n",
            "Epoch 46/100\n",
            "27455/27455 [==============================] - 4s 139us/step - loss: 0.4170 - acc: 0.8939\n",
            "Epoch 47/100\n",
            "27455/27455 [==============================] - 4s 140us/step - loss: 0.4038 - acc: 0.8988\n",
            "Epoch 48/100\n",
            "27455/27455 [==============================] - 4s 142us/step - loss: 0.3910 - acc: 0.9033\n",
            "Epoch 49/100\n",
            "27455/27455 [==============================] - 4s 141us/step - loss: 0.3780 - acc: 0.9065\n",
            "Epoch 50/100\n",
            "27455/27455 [==============================] - 4s 140us/step - loss: 0.3657 - acc: 0.9121\n",
            "Epoch 51/100\n",
            "27455/27455 [==============================] - 4s 140us/step - loss: 0.3524 - acc: 0.9174\n",
            "Epoch 52/100\n",
            "27455/27455 [==============================] - 4s 141us/step - loss: 0.3406 - acc: 0.9209\n",
            "Epoch 53/100\n",
            "27455/27455 [==============================] - 4s 141us/step - loss: 0.3294 - acc: 0.9244\n",
            "Epoch 54/100\n",
            "27455/27455 [==============================] - 4s 141us/step - loss: 0.3178 - acc: 0.9285\n",
            "Epoch 55/100\n",
            "27455/27455 [==============================] - 4s 147us/step - loss: 0.3074 - acc: 0.9321\n",
            "Epoch 56/100\n",
            "27455/27455 [==============================] - 4s 139us/step - loss: 0.2966 - acc: 0.9362\n",
            "Epoch 57/100\n",
            "27455/27455 [==============================] - 4s 144us/step - loss: 0.2866 - acc: 0.9388\n",
            "Epoch 58/100\n",
            "27455/27455 [==============================] - 4s 140us/step - loss: 0.2768 - acc: 0.9411\n",
            "Epoch 59/100\n",
            "27455/27455 [==============================] - 4s 138us/step - loss: 0.2678 - acc: 0.9453\n",
            "Epoch 60/100\n",
            "27455/27455 [==============================] - 4s 139us/step - loss: 0.2588 - acc: 0.9473\n",
            "Epoch 61/100\n",
            "27455/27455 [==============================] - 4s 138us/step - loss: 0.2506 - acc: 0.9504\n",
            "Epoch 62/100\n",
            "27455/27455 [==============================] - 4s 140us/step - loss: 0.2424 - acc: 0.9526\n",
            "Epoch 63/100\n",
            "27455/27455 [==============================] - 4s 139us/step - loss: 0.2324 - acc: 0.9558\n",
            "Epoch 64/100\n",
            "27455/27455 [==============================] - 4s 139us/step - loss: 0.2256 - acc: 0.9578\n",
            "Epoch 65/100\n",
            "27455/27455 [==============================] - 4s 139us/step - loss: 0.2182 - acc: 0.9600\n",
            "Epoch 66/100\n",
            "27455/27455 [==============================] - 4s 138us/step - loss: 0.2101 - acc: 0.9623\n",
            "Epoch 67/100\n",
            "27455/27455 [==============================] - 4s 147us/step - loss: 0.2033 - acc: 0.9651\n",
            "Epoch 68/100\n",
            "27455/27455 [==============================] - 4s 138us/step - loss: 0.1963 - acc: 0.9658\n",
            "Epoch 69/100\n",
            "27455/27455 [==============================] - 4s 138us/step - loss: 0.1891 - acc: 0.9689\n",
            "Epoch 70/100\n",
            "27455/27455 [==============================] - 4s 137us/step - loss: 0.1832 - acc: 0.9701\n",
            "Epoch 71/100\n",
            "27455/27455 [==============================] - 4s 138us/step - loss: 0.1776 - acc: 0.9716\n",
            "Epoch 72/100\n",
            "27455/27455 [==============================] - 4s 137us/step - loss: 0.1709 - acc: 0.9741\n",
            "Epoch 73/100\n",
            "27455/27455 [==============================] - 4s 137us/step - loss: 0.1649 - acc: 0.9759\n",
            "Epoch 74/100\n",
            "27455/27455 [==============================] - 4s 138us/step - loss: 0.1599 - acc: 0.9765\n",
            "Epoch 75/100\n",
            "27455/27455 [==============================] - 4s 137us/step - loss: 0.1538 - acc: 0.9781\n",
            "Epoch 76/100\n",
            "27455/27455 [==============================] - 4s 138us/step - loss: 0.1491 - acc: 0.9796\n",
            "Epoch 77/100\n",
            "27455/27455 [==============================] - 4s 138us/step - loss: 0.1438 - acc: 0.9808\n",
            "Epoch 78/100\n",
            "27455/27455 [==============================] - 4s 137us/step - loss: 0.1389 - acc: 0.9818\n",
            "Epoch 79/100\n",
            "27455/27455 [==============================] - 4s 138us/step - loss: 0.1348 - acc: 0.9835\n",
            "Epoch 80/100\n",
            "27455/27455 [==============================] - 4s 137us/step - loss: 0.1304 - acc: 0.9842\n",
            "Epoch 81/100\n",
            "27455/27455 [==============================] - 4s 138us/step - loss: 0.1257 - acc: 0.9851\n",
            "Epoch 82/100\n",
            "27455/27455 [==============================] - 4s 139us/step - loss: 0.1215 - acc: 0.9864\n",
            "Epoch 83/100\n",
            "27455/27455 [==============================] - 4s 138us/step - loss: 0.1180 - acc: 0.9873\n",
            "Epoch 84/100\n",
            "27455/27455 [==============================] - 4s 138us/step - loss: 0.1146 - acc: 0.9884\n",
            "Epoch 85/100\n",
            "27455/27455 [==============================] - 4s 138us/step - loss: 0.1105 - acc: 0.9892\n",
            "Epoch 86/100\n",
            "27455/27455 [==============================] - 4s 137us/step - loss: 0.1075 - acc: 0.9891\n",
            "Epoch 87/100\n",
            "27455/27455 [==============================] - 4s 137us/step - loss: 0.1046 - acc: 0.9900\n",
            "Epoch 88/100\n",
            "27455/27455 [==============================] - 4s 138us/step - loss: 0.1003 - acc: 0.9913\n",
            "Epoch 89/100\n",
            "27455/27455 [==============================] - 4s 138us/step - loss: 0.0976 - acc: 0.9912\n",
            "Epoch 90/100\n",
            "27455/27455 [==============================] - 4s 138us/step - loss: 0.0944 - acc: 0.9920\n",
            "Epoch 91/100\n",
            "27455/27455 [==============================] - 4s 137us/step - loss: 0.0918 - acc: 0.9925\n",
            "Epoch 92/100\n",
            "27455/27455 [==============================] - 4s 138us/step - loss: 0.0885 - acc: 0.9938\n",
            "Epoch 93/100\n",
            "27455/27455 [==============================] - 4s 138us/step - loss: 0.0860 - acc: 0.9936\n",
            "Epoch 94/100\n",
            "27455/27455 [==============================] - 4s 138us/step - loss: 0.0834 - acc: 0.9944\n",
            "Epoch 95/100\n",
            "27455/27455 [==============================] - 4s 138us/step - loss: 0.0809 - acc: 0.9944\n",
            "Epoch 96/100\n",
            "27455/27455 [==============================] - 4s 137us/step - loss: 0.0787 - acc: 0.9950\n",
            "Epoch 97/100\n",
            "27455/27455 [==============================] - 4s 137us/step - loss: 0.0763 - acc: 0.9953\n",
            "Epoch 98/100\n",
            "27455/27455 [==============================] - 4s 137us/step - loss: 0.0743 - acc: 0.9958\n",
            "Epoch 99/100\n",
            "27455/27455 [==============================] - 4s 138us/step - loss: 0.0718 - acc: 0.9961\n",
            "Epoch 100/100\n",
            "27455/27455 [==============================] - 4s 143us/step - loss: 0.0701 - acc: 0.9963\n"
          ]
        },
        {
          "data": {
            "text/plain": [
              "<keras.callbacks.History at 0x7f577e4bfd68>"
            ]
          },
          "execution_count": 18,
          "metadata": {
            "tags": []
          },
          "output_type": "execute_result"
        }
      ],
      "source": [
        "model.compile(optimizer=SGD(0.001),loss=\"categorical_crossentropy\",metrics=[\"accuracy\"])\n",
        "model.fit(train_X,train_Y,batch_size=32,epochs=100,verbose=1)"
      ]
    },
    {
      "cell_type": "code",
      "execution_count": 19,
      "metadata": {
        "colab": {
          "base_uri": "https://localhost:8080/",
          "height": 92
        },
        "colab_type": "code",
        "id": "tmXKzSMSfgDS",
        "outputId": "b4d27980-7534-4b53-e86e-52ba6e71b433"
      },
      "outputs": [
        {
          "name": "stdout",
          "output_type": "stream",
          "text": [
            "7172/7172 [==============================] - 0s 61us/step\n",
            "Accuracy:  0.7031511433351925\n"
          ]
        }
      ],
      "source": [
        "accuracy = model.evaluate(x=test_X,y=test_Y,batch_size=32)\n",
        "print(\"Accuracy: \",accuracy[1])"
      ]
    },
    {
      "cell_type": "code",
      "execution_count": 20,
      "metadata": {
        "colab": {
          "base_uri": "https://localhost:8080/",
          "height": 74
        },
        "colab_type": "code",
        "id": "QFWBt201hlEf",
        "outputId": "406c25cc-148e-4f1d-ff35-454681321f80"
      },
      "outputs": [
        {
          "name": "stdout",
          "output_type": "stream",
          "text": [
            "Class:  5\n"
          ]
        }
      ],
      "source": [
        "img = test_X[1]\n",
        "test_img = img.reshape((1,784))\n",
        "img_class = model.predict_classes(test_img)\n",
        "prediction = img_class[0]\n",
        "classname = img_class[0]\n",
        "print(\"Class: \",classname)\n"
      ]
    },
    {
      "cell_type": "code",
      "execution_count": 21,
      "metadata": {
        "colab": {
          "base_uri": "https://localhost:8080/",
          "height": 382
        },
        "colab_type": "code",
        "id": "5Yzwqb7Fhojk",
        "outputId": "2cb1aaa7-c639-4242-e2c1-ed672504c329"
      },
      "outputs": [
        {
          "data": {
            "image/png": "[encoded data removed]",
            "text/plain": [
              "<Figure size 576x396 with 1 Axes>"
            ]
          },
          "metadata": {
            "tags": []
          },
          "output_type": "display_data"
        }
      ],
      "source": [
        "img = img.reshape((28,28))\n",
        "plt.imshow(img)\n",
        "plt.title(classname)\n",
        "plt.show()"
      ]
    },
    {
      "cell_type": "code",
      "execution_count": null,
      "metadata": {
        "colab": {},
        "colab_type": "code",
        "id": "3NldTeSghsHB"
      },
      "outputs": [],
      "source": []
    }
  ],
  "metadata": {
    "accelerator": "GPU",
    "colab": {
      "collapsed_sections": [],
      "include_colab_link": true,
      "name": "ASL.ipynb",
      "provenance": [],
      "version": "0.3.2"
    },
    "kernelspec": {
      "display_name": "Python 3",
      "name": "python3"
    }
  },
  "nbformat": 4,
  "nbformat_minor": 0
}
